{
 "cells": [
  {
   "cell_type": "code",
   "execution_count": 52,
   "metadata": {},
   "outputs": [],
   "source": [
    "%matplotlib inline\n",
    "%config InlineBackend.figure_format = 'retina'\n",
    "\n",
    "import os\n",
    "from supabase import create_client, Client\n",
    "from dotenv import load_dotenv\n",
    "\n",
    "load_dotenv()\n",
    "\n",
    "url: str = os.environ.get(\"SUPABASE_URL\")\n",
    "key: str = os.environ.get(\"SUPABASE_KEY\")\n",
    "supabase: Client = create_client(url, key)"
   ]
  },
  {
   "cell_type": "code",
   "execution_count": null,
   "metadata": {},
   "outputs": [],
   "source": [
    "response = supabase.table(\"color_test_results\").select(\"*\").execute()"
   ]
  },
  {
   "cell_type": "code",
   "execution_count": null,
   "metadata": {},
   "outputs": [],
   "source": [
    "import pandas as pd\n",
    "\n",
    "df = pd.DataFrame(response.data)\n",
    "df = df.query(\"version == '0.0.3'\")\n",
    "df.version.value_counts()"
   ]
  },
  {
   "cell_type": "code",
   "execution_count": null,
   "metadata": {},
   "outputs": [],
   "source": [
    "import matplotlib.pyplot as plt\n",
    "\n",
    "counts, bins, _ = plt.hist(df.final_hue, bins=69)"
   ]
  },
  {
   "cell_type": "code",
   "execution_count": null,
   "metadata": {},
   "outputs": [],
   "source": [
    "import numpy as np\n",
    "\n",
    "def calculate_boundaries(df):\n",
    "    xy = df.final_hue.value_counts().sort_index().reset_index()\n",
    "    final_hue_raw = xy[\"final_hue\"].values\n",
    "    raw_count = xy[\"count\"].values\n",
    "    raw_count = raw_count / raw_count.sum()\n",
    "\n",
    "    count = np.cumsum(raw_count) / raw_count.sum()\n",
    "    count = np.stack((np.concatenate(([0.0], count[:-1])), count), axis=1)\n",
    "    final_hue = np.stack((final_hue_raw, final_hue_raw), axis=1)\n",
    "\n",
    "    count = count.ravel()\n",
    "    final_hue = final_hue.ravel()\n",
    "\n",
    "    return final_hue_raw, raw_count, final_hue, count"
   ]
  },
  {
   "cell_type": "code",
   "execution_count": 30,
   "metadata": {},
   "outputs": [],
   "source": [
    "import json\n",
    "import numpy as np\n",
    "from matplotlib.colors import LinearSegmentedColormap\n",
    "from matplotlib.patches import Rectangle\n",
    "from colorsys import hls_to_rgb\n",
    "\n",
    "from colorsys import hls_to_rgb\n",
    "\n",
    "def show_threshold(df, title=\"Cumulative distribution of blue thresholds\"):\n",
    "    data = []\n",
    "    for i in range(120, 241):\n",
    "        data.append(hls_to_rgb(i / 360, .5, 1))  # HSL(120, 100, 50)\n",
    "\n",
    "    cmap = LinearSegmentedColormap.from_list(\"custom\", data)\n",
    "    bin_position, count, x_cdf, y_cdf = calculate_boundaries(df)\n",
    "    print(json.dumps(list(bin_position)))\n",
    "    print(json.dumps(list(count)))\n",
    "    print(json.dumps(list(x_cdf)))\n",
    "    print(json.dumps(list(y_cdf)))\n",
    "\n",
    "    # Create gradient background\n",
    "    gradient = np.linspace(0, 1, 256).reshape(1, -1)\n",
    "    plt.figure(figsize=(6, 2))\n",
    "    plt.imshow(gradient, aspect='auto', extent=[120, 240, 0, 1], cmap=cmap)\n",
    "\n",
    "    plt.bar(bin_position, count, color='white', alpha=1, width=2)\n",
    "    plt.plot(x_cdf, y_cdf, '-', color='black')\n",
    "\n",
    "    plt.xlim((155, 205))\n",
    "    plt.xlabel(\"Hue\")\n",
    "    plt.yticks([0, .1, .5, .9, 1], [\"0%\", \"10%\", \"50%\", \"90%\", \"100%\"])\n",
    "    plt.box(False)\n",
    "    plt.title(title)\n",
    "\n",
    "    plt.grid(True, axis='y', color='black', linestyle='-.', linewidth=0.5)\n",
    "\n",
    "show_threshold(df)"
   ]
  },
  {
   "cell_type": "code",
   "execution_count": null,
   "metadata": {},
   "outputs": [],
   "source": [
    "# Create a coarse classifier in terms of iPhone vs. Android vs. other\n",
    "# Create a coarse classifier for iPhone vs. Android vs. other\n",
    "def classify_device(user_agent):\n",
    "    user_agent = user_agent.lower()\n",
    "    if 'iphone' in user_agent:\n",
    "        return 'iPhone'\n",
    "    elif 'android' in user_agent:\n",
    "        return 'Android'\n",
    "    else:\n",
    "        return 'Other'\n",
    "\n",
    "# Apply the classifier to the user_agent column\n",
    "df['device_type'] = df['user_agent'].apply(classify_device)\n",
    "\n",
    "# Display the distribution of device types\n",
    "device_distribution = df['device_type'].value_counts()\n",
    "print(\"Device Type Distribution:\")\n",
    "print(device_distribution)\n",
    "\n",
    "# Calculate the percentage distribution\n",
    "device_percentage = device_distribution / len(df) * 100\n",
    "print(\"\\nDevice Type Percentage:\")\n",
    "print(device_percentage)\n",
    "\n",
    "# Optionally, visualize the distribution\n",
    "import matplotlib.pyplot as plt\n",
    "\n",
    "plt.figure(figsize=(10, 6))\n",
    "device_distribution.plot(kind='bar')\n",
    "plt.title('Distribution of Device Types')\n",
    "plt.xlabel('Device Type')\n",
    "plt.ylabel('Count')\n",
    "plt.xticks(rotation=0)\n",
    "plt.tight_layout()\n",
    "plt.show()"
   ]
  },
  {
   "cell_type": "code",
   "execution_count": null,
   "metadata": {},
   "outputs": [],
   "source": [
    "show_threshold(df.query('device_type == \"Android\"'), \"Android thresholds\")\n",
    "show_threshold(df.query('device_type == \"iPhone\"'), \"iPhone thresholds\")"
   ]
  }
 ],
 "metadata": {
  "kernelspec": {
   "display_name": "mila",
   "language": "python",
   "name": "python3"
  },
  "language_info": {
   "codemirror_mode": {
    "name": "ipython",
    "version": 3
   },
   "file_extension": ".py",
   "mimetype": "text/x-python",
   "name": "python",
   "nbconvert_exporter": "python",
   "pygments_lexer": "ipython3",
   "version": "3.10.6"
  }
 },
 "nbformat": 4,
 "nbformat_minor": 2
}
